{
 "cells": [
  {
   "cell_type": "markdown",
   "metadata": {},
   "source": [
    "# Utilizing APIs to Make Geographic Target Selections from the Census\n",
    "## by Sophie Li\n",
    "### APRD6342 Python Exercise 7\n"
   ]
  },
  {
   "cell_type": "code",
   "execution_count": 14,
   "metadata": {},
   "outputs": [],
   "source": [
    "import csv\n",
    "import pandas as pd\n",
    "import json\n",
    "import requests\n",
    "import numpy as np"
   ]
  },
  {
   "cell_type": "markdown",
   "metadata": {},
   "source": [
    "### Load data into a dataframe"
   ]
  },
  {
   "cell_type": "code",
   "execution_count": 15,
   "metadata": {},
   "outputs": [],
   "source": [
    "alldata = pd.read_csv('msas.csv')"
   ]
  },
  {
   "cell_type": "markdown",
   "metadata": {},
   "source": [
    "### Make a list of table IDs needed "
   ]
  },
  {
   "cell_type": "code",
   "execution_count": 16,
   "metadata": {},
   "outputs": [],
   "source": [
    "tableids = ['B01001', 'B03002', 'B19001']\n",
    "tableidstring = ','.join(tableids)"
   ]
  },
  {
   "cell_type": "markdown",
   "metadata": {},
   "source": [
    "### Generate the geoid list separately(had issues generating the list in one command)"
   ]
  },
  {
   "cell_type": "code",
   "execution_count": 17,
   "metadata": {},
   "outputs": [],
   "source": [
    "geoids = \"31000US\" + alldata[\"CBSA\"].astype(str)\n",
    "half = geoids[:len(geoids)//2]\n",
    "rest = geoids[len(geoids)//2:]"
   ]
  },
  {
   "cell_type": "markdown",
   "metadata": {},
   "source": [
    "### Join list together in a way that the api accepts"
   ]
  },
  {
   "cell_type": "code",
   "execution_count": 18,
   "metadata": {},
   "outputs": [],
   "source": [
    "half = ','.join(half)\n",
    "rest = ','.join(rest)"
   ]
  },
  {
   "cell_type": "markdown",
   "metadata": {},
   "source": [
    "### Generate URLs "
   ]
  },
  {
   "cell_type": "code",
   "execution_count": 19,
   "metadata": {},
   "outputs": [
    {
     "data": {
      "text/plain": [
       "200"
      ]
     },
     "execution_count": 19,
     "metadata": {},
     "output_type": "execute_result"
    }
   ],
   "source": [
    "url1 = 'http://api.censusreporter.org/1.0/data/show/latest?table_ids=%s&geo_ids=%s' % (tableidstring, half)\n",
    "response1 = requests.get(url1)\n",
    "json_data1 = response1.json()\n",
    "response1.status_code # Check if URL works\n",
    "\n",
    "\n",
    "url2 = 'http://api.censusreporter.org/1.0/data/show/latest?table_ids=%s&geo_ids=%s' % (tableidstring, rest)\n",
    "response2 = requests.get(url2)\n",
    "json_data2 = response2.json()\n",
    "response2.status_code # Check if URL works"
   ]
  },
  {
   "cell_type": "markdown",
   "metadata": {},
   "source": [
    "## Questions "
   ]
  },
  {
   "cell_type": "markdown",
   "metadata": {},
   "source": [
    "### Q1. What city has the highest count of the audience you chose for parameter #1?\n",
    "  "
   ]
  },
  {
   "cell_type": "code",
   "execution_count": 24,
   "metadata": {},
   "outputs": [],
   "source": [
    "### Parameter #1: income (the target income range was 50k to 75k). \n",
    "### Tables: 'B19001011' and 'B19001012'.\n",
    "### Make a python list of all the table ids you want to download\n",
    "tableidQ1 = ['B19001']\n",
    "tableidstringQ1 = ','.join(tableids)"
   ]
  },
  {
   "cell_type": "code",
   "execution_count": 21,
   "metadata": {},
   "outputs": [
    {
     "name": "stdout",
     "output_type": "stream",
     "text": [
      "<class 'dict'>\n"
     ]
    }
   ],
   "source": [
    "# iterate over each of your metro areas and get the right data for each metro\n",
    "urlQ1h = 'http://api.censusreporter.org/1.0/data/show/latest?table_ids=%s&geo_ids=%s' % (tableidstringQ1, half)\n",
    "loadedjsonQ1h = requests.get(urlQ1h)\n",
    "parsedjsonQ1h = json.loads(loadedjsonQ1h.text)\n",
    "urlQ1r = 'http://api.censusreporter.org/1.0/data/show/latest?table_ids=%s&geo_ids=%s' % (tableidstringQ1, rest)\n",
    "loadedjsonQ1r = requests.get(urlQ1r)\n",
    "parsedjsonQ1r = json.loads(loadedjsonQ1r.text)\n",
    "print(type(parsedjsonQ1r))"
   ]
  },
  {
   "cell_type": "code",
   "execution_count": 22,
   "metadata": {},
   "outputs": [],
   "source": [
    "# Average HH income for Parameter #1 ?\n",
    "dfHH = pd.DataFrame(columns=['country', 'population'], index=list(range(1,len(geoids))))\n",
    "\n",
    "for i in list(range(1,len(geoids)//2)):\n",
    "    dfHH['country'][i]=[geoids[i]]\n",
    "    dfHH['population'][i] = parsedjsonQ1h['data'][geoids[i]]['B19001']['estimate']['B19001011'] + parsedjsonQ1h['data'][geoids[i]]['B19001']['estimate']['B19001012']\n",
    "\n",
    "for i in list(range(192,len(geoids))):\n",
    "    dfHH['country'][i]=[geoids[i]]\n",
    "    dfHH['population'][i] = parsedjsonQ1r['data'][geoids[i]]['B19001']['estimate']['B19001011'] + parsedjsonQ1r['data'][geoids[i]]['B19001']['estimate']['B19001012']"
   ]
  },
  {
   "cell_type": "code",
   "execution_count": 23,
   "metadata": {},
   "outputs": [
    {
     "name": "stdout",
     "output_type": "stream",
     "text": [
      "            country   population\n",
      "249  [31000US35620]  1.03819e+06\n"
     ]
    }
   ],
   "source": [
    "# Find the country that has the highest average household income\n",
    "print(dfHH.loc[dfHH['population'] == max(dfHH['population'])])"
   ]
  },
  {
   "cell_type": "markdown",
   "metadata": {},
   "source": [
    "### A: The city with the largest population in this group: the New York City area. "
   ]
  },
  {
   "cell_type": "code",
   "execution_count": 8,
   "metadata": {},
   "outputs": [
    {
     "name": "stdout",
     "output_type": "stream",
     "text": [
      "      CBSA                                   NAME  POPESTIMATE2017\n",
      "249  35620  New York-Newark-Jersey City, NY-NJ-PA         20320876\n"
     ]
    }
   ],
   "source": [
    "print (alldata.loc[alldata['CBSA'] == 35620]) "
   ]
  },
  {
   "cell_type": "markdown",
   "metadata": {},
   "source": [
    "### Q2. What city has the highest count of the audience you chose for parameter #2?"
   ]
  },
  {
   "cell_type": "code",
   "execution_count": 30,
   "metadata": {},
   "outputs": [],
   "source": [
    "### Parameter #2: age range (18 ~ 34 yrs old). \n",
    "### Tables: 'B01001003','B01001004','B01001005','B01001006','B01001007','B01001008','B01001009','B01001010','B01001011', and 'B01001012'.\n",
    "tableidsQ2 = ['B01001']\n",
    "tableidstringQ2 = ','.join(tableidsQ2)"
   ]
  },
  {
   "cell_type": "code",
   "execution_count": 33,
   "metadata": {},
   "outputs": [
    {
     "name": "stdout",
     "output_type": "stream",
     "text": [
      "200\n"
     ]
    }
   ],
   "source": [
    "# iterate over each of your metro areas and get the right data for each metro\n",
    "urlQ2h = 'http://api.censusreporter.org/1.0/data/show/latest?table_ids=%s&geo_ids=%s' % (tableidstringQ2, half)\n",
    "loadedjsonQ2h = requests.get(urlQ2h)\n",
    "parsedjsonQ2h = json.loads(loadedjsonQ2h.text)\n",
    "\n",
    "urlQ2r = 'http://api.censusreporter.org/1.0/data/show/latest?table_ids=%s&geo_ids=%s' % (tableidstringQ2, rest)\n",
    "loadedjsonQ2r = requests.get(urlQ2r)\n",
    "parsedjsonQ2r = json.loads(loadedjsonQ2r.text)\n"
   ]
  },
  {
   "cell_type": "code",
   "execution_count": 27,
   "metadata": {},
   "outputs": [],
   "source": [
    "# Age Range for Parameter #2 ?\n",
    "age_range = ['B01001003','B01001004','B01001005','B01001006','B01001007','B01001008','B01001009','B01001010','B01001011','B01001012']\n",
    "\n",
    "dfAR = pd.DataFrame(columns=['location', 'population'], index=list(range(1,len(geoids))))\n",
    "\n",
    "for i in list(range(1,len(geoids)//2)):\n",
    "    dfAR['location'][i]=[geoids[i]]\n",
    "    dfAR['population'][i] = parsedjsonQ2h['data'][geoids[i]]['B01001']['estimate'][age_range[0]] + parsedjsonQ2h['data'][geoids[i]]['B01001']['estimate'][age_range[1]] + parsedjsonQ2h['data'][geoids[i]]['B01001']['estimate'][age_range[2]] + parsedjsonQ2h['data'][geoids[i]]['B01001']['estimate'][age_range[3]] + parsedjsonQ2h['data'][geoids[i]]['B01001']['estimate'][age_range[4]] + parsedjsonQ2h['data'][geoids[i]]['B01001']['estimate'][age_range[5]] + parsedjsonQ2h['data'][geoids[i]]['B01001']['estimate'][age_range[6]] + parsedjsonQ2h['data'][geoids[i]]['B01001']['estimate'][age_range[7]] + parsedjsonQ2h['data'][geoids[i]]['B01001']['estimate'][age_range[8]] + parsedjsonQ2h['data'][geoids[i]]['B01001']['estimate'][age_range[9]]  \n",
    "    \n",
    "for i in list(range(192,len(geoids))):\n",
    "    dfAR['location'][i]=[geoids[i]]\n",
    "    dfAR['population'][i] = parsedjsonQ2r['data'][geoids[i]]['B01001']['estimate'][age_range[0]] + parsedjsonQ2r['data'][geoids[i]]['B01001']['estimate'][age_range[1]] + parsedjsonQ2r['data'][geoids[i]]['B01001']['estimate'][age_range[2]] + parsedjsonQ2r['data'][geoids[i]]['B01001']['estimate'][age_range[3]] + parsedjsonQ2r['data'][geoids[i]]['B01001']['estimate'][age_range[4]] + parsedjsonQ2r['data'][geoids[i]]['B01001']['estimate'][age_range[5]] + parsedjsonQ2r['data'][geoids[i]]['B01001']['estimate'][age_range[6]] + parsedjsonQ2r['data'][geoids[i]]['B01001']['estimate'][age_range[7]] + parsedjsonQ2r['data'][geoids[i]]['B01001']['estimate'][age_range[8]] + parsedjsonQ2r['data'][geoids[i]]['B01001']['estimate'][age_range[9]]  "
   ]
  },
  {
   "cell_type": "code",
   "execution_count": 28,
   "metadata": {},
   "outputs": [
    {
     "name": "stdout",
     "output_type": "stream",
     "text": [
      "           location   population\n",
      "249  [31000US35620]  4.63682e+06\n"
     ]
    }
   ],
   "source": [
    "# Find the country with the max value\n",
    "print (dfAR.loc[dfAR['population'] == max(dfAR['population'])])"
   ]
  },
  {
   "cell_type": "markdown",
   "metadata": {},
   "source": [
    "### A: The city with the largest population: the New York City area. "
   ]
  },
  {
   "cell_type": "code",
   "execution_count": 34,
   "metadata": {},
   "outputs": [
    {
     "name": "stdout",
     "output_type": "stream",
     "text": [
      "      CBSA                                   NAME  POPESTIMATE2017\n",
      "249  35620  New York-Newark-Jersey City, NY-NJ-PA         20320876\n"
     ]
    }
   ],
   "source": [
    "print (alldata.loc[alldata['CBSA'] == 35620])"
   ]
  },
  {
   "cell_type": "markdown",
   "metadata": {},
   "source": [
    "### Q3. What city has the highest count of the audience you chose for parameter #3?"
   ]
  },
  {
   "cell_type": "code",
   "execution_count": 35,
   "metadata": {},
   "outputs": [],
   "source": [
    "### Parameter #3: Hispanic populations only.\n",
    "### Tables: 'B03002012'\n",
    "tableidsQ3 = ['B03002']\n",
    "tableidstringQ3 = ','.join(tableidsQ3)"
   ]
  },
  {
   "cell_type": "code",
   "execution_count": 36,
   "metadata": {},
   "outputs": [],
   "source": [
    "# iterate over each of your metro areas and get the right data for each metro\n",
    "urlQ3h = 'http://api.censusreporter.org/1.0/data/show/latest?table_ids=%s&geo_ids=%s' % (tableidstringQ3, half)\n",
    "loadedjsonQ3h = requests.get(urlQ3h)\n",
    "parsedjsonQ3h = json.loads(loadedjsonQ3h.text)\n",
    "\n",
    "urlQ3r = 'http://api.censusreporter.org/1.0/data/show/latest?table_ids=%s&geo_ids=%s' % (tableidstringQ3, rest)\n",
    "loadedjsonQ3r = requests.get(urlQ3r)\n",
    "parsedjsonQ3r = json.loads(loadedjsonQ3r.text)"
   ]
  },
  {
   "cell_type": "code",
   "execution_count": 37,
   "metadata": {},
   "outputs": [],
   "source": [
    "# Areas with large Hispanic populations for Parameter #3 ?\n",
    "dfHP = pd.DataFrame(columns=['location', 'population'], index=list(range(1,len(geoids))))\n",
    "\n",
    "for i in list(range(1,len(geoids)//2)):\n",
    "    dfHP['location'][i]=[geoids[i]]\n",
    "    dfHP['population'][i] = parsedjsonQ3h['data'][geoids[i]]['B03002']['estimate']['B03002012'] \n",
    "\n",
    "for i in list(range(192,len(geoids))):\n",
    "    dfHP['location'][i]=[geoids[i]]\n",
    "    dfHP['population'][i] = parsedjsonQ3r['data'][geoids[i]]['B03002']['estimate']['B03002012'] "
   ]
  },
  {
   "cell_type": "code",
   "execution_count": 38,
   "metadata": {},
   "outputs": [
    {
     "name": "stdout",
     "output_type": "stream",
     "text": [
      "           location  population\n",
      "210  [31000US31080]  5.9322e+06\n"
     ]
    }
   ],
   "source": [
    "# Find the country with the max value\n",
    "print(dfHP.loc[dfHP['population'] == max(dfHP['population'])])"
   ]
  },
  {
   "cell_type": "markdown",
   "metadata": {},
   "source": [
    "### A: The city with the largest population: the Los Angeles Long Beach area."
   ]
  },
  {
   "cell_type": "code",
   "execution_count": 39,
   "metadata": {},
   "outputs": [
    {
     "name": "stdout",
     "output_type": "stream",
     "text": [
      "      CBSA                                NAME  POPESTIMATE2017\n",
      "210  31080  Los Angeles-Long Beach-Anaheim, CA         13353907\n"
     ]
    }
   ],
   "source": [
    "print(alldata.loc[alldata['CBSA'] == 31080])"
   ]
  },
  {
   "cell_type": "markdown",
   "metadata": {},
   "source": [
    "### Q4. What city has the highest mean percentage across all three categories?"
   ]
  },
  {
   "cell_type": "code",
   "execution_count": 40,
   "metadata": {},
   "outputs": [],
   "source": [
    "# Combining three categories\n",
    "df = pd.DataFrame(columns=['HHPop', 'ARPop', 'HPPop'])\n",
    "HHPop = dfHH['population']\n",
    "ARPop = dfAR['population']\n",
    "HPPop = dfHP['population']\n",
    "\n",
    "\n",
    "for i, row in df.iterrows():\n",
    "    HHPercent = pd.Series(df['HHPop'][i]/max(df['HHPop'])).astype(float)\n",
    "    ARPercent = pd.Series(df['ARPop'][i]/max(df['ARPop'])).astype(float)\n",
    "    HPPercent = pd.Series(df['HPPop'][i]/max(df['HPPop'])).astype(float)\n",
    "    HHPop.append(HHPercent)\n",
    "    ARPop.append(ARPercent)\n",
    "    HPPop.append(HPPercent)"
   ]
  },
  {
   "cell_type": "code",
   "execution_count": 41,
   "metadata": {},
   "outputs": [],
   "source": [
    "# Get mean percentages\n",
    "df['HHPop'] = HHPop\n",
    "df['ARPop'] = ARPop\n",
    "df['HPPop'] = HPPop\n",
    "\n",
    "Mean_percent = []\n",
    "for i, row in df.iterrows():\n",
    "    Mean = (df['HHPop'][i] + df['ARPop'][i]+ df['HPPop'][i])/3\n",
    "    Mean_percent.append(Mean)\n",
    "df['Mean_percent'] = Mean_percent"
   ]
  },
  {
   "cell_type": "code",
   "execution_count": 45,
   "metadata": {},
   "outputs": [
    {
     "name": "stdout",
     "output_type": "stream",
     "text": [
      "           HHPop        ARPop       HPPop  Mean_percent\n",
      "249  1.03819e+06  4.63682e+06  4.7702e+06  3.481738e+06\n",
      "            country   population\n",
      "249  [31000US35620]  1.03819e+06\n"
     ]
    }
   ],
   "source": [
    "# What country has the highest mean percentage across all three categories?\n",
    "print(df.loc[df['Mean_percent'] == max(df['Mean_percent'])])\n",
    "print(dfHH.loc[dfHH['population'] == 1038188.0]) \n"
   ]
  },
  {
   "cell_type": "markdown",
   "metadata": {},
   "source": [
    "### A: New York City Area has the highest mean percentage."
   ]
  },
  {
   "cell_type": "code",
   "execution_count": 47,
   "metadata": {},
   "outputs": [
    {
     "name": "stdout",
     "output_type": "stream",
     "text": [
      "      CBSA                                   NAME  POPESTIMATE2017\n",
      "249  35620  New York-Newark-Jersey City, NY-NJ-PA         20320876\n"
     ]
    }
   ],
   "source": [
    "# Find the city \n",
    "print(alldata.loc[alldata['CBSA'] == 35620])"
   ]
  }
 ],
 "metadata": {
  "kernelspec": {
   "display_name": "Python 3",
   "language": "python",
   "name": "python3"
  },
  "language_info": {
   "codemirror_mode": {
    "name": "ipython",
    "version": 3
   },
   "file_extension": ".py",
   "mimetype": "text/x-python",
   "name": "python",
   "nbconvert_exporter": "python",
   "pygments_lexer": "ipython3",
   "version": "3.6.5"
  }
 },
 "nbformat": 4,
 "nbformat_minor": 2
}
