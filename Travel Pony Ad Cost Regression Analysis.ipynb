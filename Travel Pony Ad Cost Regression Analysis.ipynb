{
 "cells": [
  {
   "cell_type": "markdown",
   "metadata": {},
   "source": [
    "# Understanding Facebook Ads by Using Multiple Regression\n",
    "## by Sophie Li\n",
    "### APRD6342 Python Exercise 5"
   ]
  },
  {
   "cell_type": "code",
   "execution_count": 4,
   "metadata": {},
   "outputs": [],
   "source": [
    "import csv\n",
    "import pandas as pd\n",
    "import numpy as np\n",
    "import statsmodels.api as sm\n",
    "from sklearn.linear_model import LinearRegression\n",
    "import seaborn as sns\n",
    "csvfile = 'Travel Pony Facebook.csv'\n",
    "tpf = pd.read_csv(csvfile)"
   ]
  },
  {
   "cell_type": "markdown",
   "metadata": {},
   "source": [
    "### First, remove rows that have 0 amount spent."
   ]
  },
  {
   "cell_type": "code",
   "execution_count": 5,
   "metadata": {},
   "outputs": [],
   "source": [
    "newtpf = tpf.loc[tpf['Amount Spent (USD)'] != 0]"
   ]
  },
  {
   "cell_type": "markdown",
   "metadata": {},
   "source": [
    "### Next, graph a histogram of Amount Spent using Seaborn. "
   ]
  },
  {
   "cell_type": "code",
   "execution_count": 6,
   "metadata": {},
   "outputs": [
    {
     "name": "stderr",
     "output_type": "stream",
     "text": [
      "/anaconda3/lib/python3.6/site-packages/matplotlib/axes/_axes.py:6462: UserWarning: The 'normed' kwarg is deprecated, and has been replaced by the 'density' kwarg.\n",
      "  warnings.warn(\"The 'normed' kwarg is deprecated, and has been \"\n"
     ]
    },
    {
     "data": {
      "text/plain": [
       "<matplotlib.axes._subplots.AxesSubplot at 0x109e29080>"
      ]
     },
     "execution_count": 6,
     "metadata": {},
     "output_type": "execute_result"
    },
    {
     "data": {
      "image/png": "[encoded data removed]",
      "text/plain": [
       "<Figure size 432x288 with 1 Axes>"
      ]
     },
     "metadata": {},
     "output_type": "display_data"
    }
   ],
   "source": [
    "sns.set_style('darkgrid')\n",
    "sns.distplot(newtpf['Amount Spent (USD)']) # Distribution Plot"
   ]
  },
  {
   "cell_type": "markdown",
   "metadata": {},
   "source": [
    "### 2.  Build a multiple regression (links to an external site) where the outcome variable(Y) is: \n",
    "   #### Amount Spent \n",
    "### and the predictor variables(X) are: \n",
    "   #### Campaign Name\n",
    "   #### Reach\n",
    "   #### Frequency\n",
    "   #### Impressions\n",
    "   #### Clicks\n",
    "   #### Unique Clicks\n",
    "   #### Page Likes\n",
    "   #### Page Engagement\n",
    "   #### Post Engagement\n",
    "   #### Post Likes\n",
    "   #### Post Comments\n",
    "   #### Post Shares\n",
    "   #### Photo Views\n",
    "   #### Website Clicks"
   ]
  },
  {
   "cell_type": "code",
   "execution_count": 7,
   "metadata": {},
   "outputs": [
    {
     "name": "stderr",
     "output_type": "stream",
     "text": [
      "/anaconda3/lib/python3.6/site-packages/ipykernel_launcher.py:2: SettingWithCopyWarning: \n",
      "A value is trying to be set on a copy of a slice from a DataFrame.\n",
      "Try using .loc[row_indexer,col_indexer] = value instead\n",
      "\n",
      "See the caveats in the documentation: http://pandas.pydata.org/pandas-docs/stable/indexing.html#indexing-view-versus-copy\n",
      "  \n",
      "/anaconda3/lib/python3.6/site-packages/ipykernel_launcher.py:3: SettingWithCopyWarning: \n",
      "A value is trying to be set on a copy of a slice from a DataFrame.\n",
      "Try using .loc[row_indexer,col_indexer] = value instead\n",
      "\n",
      "See the caveats in the documentation: http://pandas.pydata.org/pandas-docs/stable/indexing.html#indexing-view-versus-copy\n",
      "  This is separate from the ipykernel package so we can avoid doing imports until\n"
     ]
    }
   ],
   "source": [
    "# Campaign Name -- Categorical Variable \n",
    "newtpf['Campaign Name'] = newtpf['Campaign Name'].astype('category')\n",
    "newtpf['Campaign_Code'] = newtpf['Campaign Name'].cat.codes"
   ]
  },
  {
   "cell_type": "code",
   "execution_count": 8,
   "metadata": {},
   "outputs": [],
   "source": [
    "x = newtpf[['Campaign_Code', 'Reach', 'Frequency', 'Impressions', 'Clicks', 'Unique Clicks'\n",
    "         , 'Page Likes', 'Page Engagement', 'Post Engagement', 'Post Likes'\n",
    "         , 'Post Comments', 'Post Shares', 'Photo Views', 'Website Clicks']]\n",
    "y = newtpf['Amount Spent (USD)']"
   ]
  },
  {
   "cell_type": "code",
   "execution_count": 9,
   "metadata": {},
   "outputs": [
    {
     "name": "stdout",
     "output_type": "stream",
     "text": [
      "                            OLS Regression Results                            \n",
      "==============================================================================\n",
      "Dep. Variable:     Amount Spent (USD)   R-squared:                       0.927\n",
      "Model:                            OLS   Adj. R-squared:                  0.926\n",
      "Method:                 Least Squares   F-statistic:                     1743.\n",
      "Date:                Thu, 18 Oct 2018   Prob (F-statistic):               0.00\n",
      "Time:                        15:38:21   Log-Likelihood:                -6591.5\n",
      "No. Observations:                1802   AIC:                         1.321e+04\n",
      "Df Residuals:                    1788   BIC:                         1.329e+04\n",
      "Df Model:                          13                                         \n",
      "Covariance Type:            nonrobust                                         \n",
      "===================================================================================\n",
      "                      coef    std err          t      P>|t|      [0.025      0.975]\n",
      "-----------------------------------------------------------------------------------\n",
      "const              -8.2165      1.531     -5.366      0.000     -11.220      -5.213\n",
      "Campaign_Code       0.0135      0.002      5.979      0.000       0.009       0.018\n",
      "Reach               0.0036      0.000     23.278      0.000       0.003       0.004\n",
      "Frequency           4.4988      1.438      3.128      0.002       1.678       7.320\n",
      "Impressions        -0.0013   6.05e-05    -21.458      0.000      -0.001      -0.001\n",
      "Clicks             -0.1742      0.111     -1.569      0.117      -0.392       0.044\n",
      "Unique Clicks       0.3073      0.126      2.444      0.015       0.061       0.554\n",
      "Page Likes         23.0417      9.444      2.440      0.015       4.520      41.564\n",
      "Page Engagement   -19.7454      9.440     -2.092      0.037     -38.261      -1.230\n",
      "Post Engagement    16.8084      7.868      2.136      0.033       1.378      32.239\n",
      "Post Likes          2.3714      1.578      1.502      0.133      -0.724       5.467\n",
      "Post Comments       3.4253      1.641      2.087      0.037       0.207       6.644\n",
      "Post Shares         4.4798      1.602      2.797      0.005       1.339       7.621\n",
      "Photo Views         3.1556      1.577      2.002      0.045       0.064       6.248\n",
      "Website Clicks      3.3764      1.577      2.142      0.032       0.284       6.468\n",
      "==============================================================================\n",
      "Omnibus:                      878.966   Durbin-Watson:                   1.873\n",
      "Prob(Omnibus):                  0.000   Jarque-Bera (JB):            26666.114\n",
      "Skew:                           1.680   Prob(JB):                         0.00\n",
      "Kurtosis:                      21.544   Cond. No.                     1.08e+19\n",
      "==============================================================================\n",
      "\n",
      "Warnings:\n",
      "[1] Standard Errors assume that the covariance matrix of the errors is correctly specified.\n",
      "[2] The smallest eigenvalue is 1.64e-26. This might indicate that there are\n",
      "strong multicollinearity problems or that the design matrix is singular.\n"
     ]
    }
   ],
   "source": [
    "# Regression Model\n",
    "x = sm.add_constant(x)\n",
    "x.shape\n",
    "linreg=sm.OLS(y,x).fit()\n",
    "print(linreg.summary())"
   ]
  },
  {
   "cell_type": "markdown",
   "metadata": {},
   "source": [
    "### 3. Look at the coefficients for each one of your predictor variables. \n",
    "### The higher the value, the stronger predictive value the variable has with amount spent. \n",
    "### That is, when we spend more, we tend to get more of this variable than anything else. "
   ]
  },
  {
   "cell_type": "code",
   "execution_count": 11,
   "metadata": {},
   "outputs": [
    {
     "data": {
      "text/html": [
       "<div>\n",
       "<style scoped>\n",
       "    .dataframe tbody tr th:only-of-type {\n",
       "        vertical-align: middle;\n",
       "    }\n",
       "\n",
       "    .dataframe tbody tr th {\n",
       "        vertical-align: top;\n",
       "    }\n",
       "\n",
       "    .dataframe thead th {\n",
       "        text-align: right;\n",
       "    }\n",
       "</style>\n",
       "<table border=\"1\" class=\"dataframe\">\n",
       "  <thead>\n",
       "    <tr style=\"text-align: right;\">\n",
       "      <th></th>\n",
       "      <th>coef</th>\n",
       "    </tr>\n",
       "  </thead>\n",
       "  <tbody>\n",
       "    <tr>\n",
       "      <th>Page Likes</th>\n",
       "      <td>23.0417</td>\n",
       "    </tr>\n",
       "    <tr>\n",
       "      <th>Post Engagement</th>\n",
       "      <td>16.8084</td>\n",
       "    </tr>\n",
       "    <tr>\n",
       "      <th>Frequency</th>\n",
       "      <td>4.4988</td>\n",
       "    </tr>\n",
       "    <tr>\n",
       "      <th>Post Shares</th>\n",
       "      <td>4.4798</td>\n",
       "    </tr>\n",
       "    <tr>\n",
       "      <th>Post Comments</th>\n",
       "      <td>3.4253</td>\n",
       "    </tr>\n",
       "    <tr>\n",
       "      <th>Website Clicks</th>\n",
       "      <td>3.3764</td>\n",
       "    </tr>\n",
       "    <tr>\n",
       "      <th>Photo Views</th>\n",
       "      <td>3.1556</td>\n",
       "    </tr>\n",
       "    <tr>\n",
       "      <th>Post Likes</th>\n",
       "      <td>2.3714</td>\n",
       "    </tr>\n",
       "    <tr>\n",
       "      <th>Unique Clicks</th>\n",
       "      <td>0.3073</td>\n",
       "    </tr>\n",
       "    <tr>\n",
       "      <th>Campaign_Code</th>\n",
       "      <td>0.0135</td>\n",
       "    </tr>\n",
       "    <tr>\n",
       "      <th>Reach</th>\n",
       "      <td>0.0036</td>\n",
       "    </tr>\n",
       "    <tr>\n",
       "      <th>Impressions</th>\n",
       "      <td>-0.0013</td>\n",
       "    </tr>\n",
       "    <tr>\n",
       "      <th>Clicks</th>\n",
       "      <td>-0.1742</td>\n",
       "    </tr>\n",
       "    <tr>\n",
       "      <th>Page Engagement</th>\n",
       "      <td>-19.7454</td>\n",
       "    </tr>\n",
       "  </tbody>\n",
       "</table>\n",
       "</div>"
      ],
      "text/plain": [
       "                    coef\n",
       "Page Likes       23.0417\n",
       "Post Engagement  16.8084\n",
       "Frequency         4.4988\n",
       "Post Shares       4.4798\n",
       "Post Comments     3.4253\n",
       "Website Clicks    3.3764\n",
       "Photo Views       3.1556\n",
       "Post Likes        2.3714\n",
       "Unique Clicks     0.3073\n",
       "Campaign_Code     0.0135\n",
       "Reach             0.0036\n",
       "Impressions      -0.0013\n",
       "Clicks           -0.1742\n",
       "Page Engagement -19.7454"
      ]
     },
     "execution_count": 11,
     "metadata": {},
     "output_type": "execute_result"
    }
   ],
   "source": [
    "coefs = pd.DataFrame({ 'coef': [0.0135, 0.0036, 4.4988, -0.0013, -0.1742, \n",
    "                                0.3073, 23.0417, -19.7454, 16.8084, 2.3714, \n",
    "                                3.4253, 4.4798, 3.1556, 3.3764]}, \n",
    "                        index=['Campaign_Code',\n",
    "                               'Reach',\n",
    "                               'Frequency',\n",
    "                               'Impressions',\n",
    "                               'Clicks',\n",
    "                               'Unique Clicks',\n",
    "                               'Page Likes',\n",
    "                               'Page Engagement',\n",
    "                               'Post Engagement',\n",
    "                               'Post Likes',\n",
    "                               'Post Comments',\n",
    "                               'Post Shares', \n",
    "                               'Photo Views',\n",
    "                               'Website Clicks'])\n",
    "coefs.sort_values('coef', ascending=False )  "
   ]
  },
  {
   "cell_type": "markdown",
   "metadata": {},
   "source": [
    "### Therefore, the three predictors with the highest predictive value are:\n",
    "### 1. Page Likes\n",
    "### 2. Post Engagement\n",
    "### 3. Frequency          "
   ]
  }
 ],
 "metadata": {
  "kernelspec": {
   "display_name": "Python 3",
   "language": "python",
   "name": "python3"
  },
  "language_info": {
   "codemirror_mode": {
    "name": "ipython",
    "version": 3
   },
   "file_extension": ".py",
   "mimetype": "text/x-python",
   "name": "python",
   "nbconvert_exporter": "python",
   "pygments_lexer": "ipython3",
   "version": "3.6.5"
  }
 },
 "nbformat": 4,
 "nbformat_minor": 2
}
